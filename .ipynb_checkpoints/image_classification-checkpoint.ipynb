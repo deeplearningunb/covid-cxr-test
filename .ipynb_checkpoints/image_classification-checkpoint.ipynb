{
 "cells": [
  {
   "cell_type": "code",
   "execution_count": 1,
   "id": "measured-premises",
   "metadata": {},
   "outputs": [
    {
     "name": "stdout",
     "output_type": "stream",
     "text": [
      "Requirement already satisfied: tensorflow in /Users/isaque/.envs/deeplearning/lib/python3.8/site-packages (2.4.1)\n",
      "Requirement already satisfied: keras in /Users/isaque/.envs/deeplearning/lib/python3.8/site-packages (2.4.3)\n",
      "Requirement already satisfied: Pillow in /Users/isaque/.envs/deeplearning/lib/python3.8/site-packages (8.2.0)\n",
      "Requirement already satisfied: h5py in /Users/isaque/.envs/deeplearning/lib/python3.8/site-packages (from keras) (2.10.0)\n",
      "Requirement already satisfied: pyyaml in /Users/isaque/.envs/deeplearning/lib/python3.8/site-packages (from keras) (5.4.1)\n",
      "Requirement already satisfied: scipy>=0.14 in /Users/isaque/.envs/deeplearning/lib/python3.8/site-packages (from keras) (1.4.1)\n",
      "Requirement already satisfied: numpy>=1.9.1 in /Users/isaque/.envs/deeplearning/lib/python3.8/site-packages (from keras) (1.19.5)\n",
      "Requirement already satisfied: flatbuffers~=1.12.0 in /Users/isaque/.envs/deeplearning/lib/python3.8/site-packages (from tensorflow) (1.12)\n",
      "Requirement already satisfied: opt-einsum~=3.3.0 in /Users/isaque/.envs/deeplearning/lib/python3.8/site-packages (from tensorflow) (3.3.0)\n",
      "Requirement already satisfied: six~=1.15.0 in /Users/isaque/.envs/deeplearning/lib/python3.8/site-packages (from tensorflow) (1.15.0)\n",
      "Requirement already satisfied: tensorboard~=2.4 in /Users/isaque/.envs/deeplearning/lib/python3.8/site-packages (from tensorflow) (2.5.0)\n",
      "Requirement already satisfied: tensorflow-estimator<2.5.0,>=2.4.0 in /Users/isaque/.envs/deeplearning/lib/python3.8/site-packages (from tensorflow) (2.4.0)\n",
      "Requirement already satisfied: absl-py~=0.10 in /Users/isaque/.envs/deeplearning/lib/python3.8/site-packages (from tensorflow) (0.12.0)\n",
      "Requirement already satisfied: keras-preprocessing~=1.1.2 in /Users/isaque/.envs/deeplearning/lib/python3.8/site-packages (from tensorflow) (1.1.2)\n",
      "Requirement already satisfied: typing-extensions~=3.7.4 in /Users/isaque/.envs/deeplearning/lib/python3.8/site-packages (from tensorflow) (3.7.4.3)\n",
      "Requirement already satisfied: astunparse~=1.6.3 in /Users/isaque/.envs/deeplearning/lib/python3.8/site-packages (from tensorflow) (1.6.3)\n",
      "Requirement already satisfied: protobuf>=3.9.2 in /Users/isaque/.envs/deeplearning/lib/python3.8/site-packages (from tensorflow) (3.15.6)\n",
      "Requirement already satisfied: google-pasta~=0.2 in /Users/isaque/.envs/deeplearning/lib/python3.8/site-packages (from tensorflow) (0.2.0)\n",
      "Requirement already satisfied: termcolor~=1.1.0 in /Users/isaque/.envs/deeplearning/lib/python3.8/site-packages (from tensorflow) (1.1.0)\n",
      "Requirement already satisfied: grpcio~=1.32.0 in /Users/isaque/.envs/deeplearning/lib/python3.8/site-packages (from tensorflow) (1.32.0)\n",
      "Requirement already satisfied: wrapt~=1.12.1 in /Users/isaque/.envs/deeplearning/lib/python3.8/site-packages (from tensorflow) (1.12.1)\n",
      "Requirement already satisfied: gast==0.3.3 in /Users/isaque/.envs/deeplearning/lib/python3.8/site-packages (from tensorflow) (0.3.3)\n",
      "Requirement already satisfied: wheel~=0.35 in /Users/isaque/.envs/deeplearning/lib/python3.8/site-packages (from tensorflow) (0.36.2)\n",
      "Requirement already satisfied: requests<3,>=2.21.0 in /Users/isaque/.envs/deeplearning/lib/python3.8/site-packages (from tensorboard~=2.4->tensorflow) (2.25.1)\n",
      "Requirement already satisfied: markdown>=2.6.8 in /Users/isaque/.envs/deeplearning/lib/python3.8/site-packages (from tensorboard~=2.4->tensorflow) (3.3.4)\n",
      "Requirement already satisfied: werkzeug>=0.11.15 in /Users/isaque/.envs/deeplearning/lib/python3.8/site-packages (from tensorboard~=2.4->tensorflow) (1.0.1)\n",
      "Requirement already satisfied: google-auth<2,>=1.6.3 in /Users/isaque/.envs/deeplearning/lib/python3.8/site-packages (from tensorboard~=2.4->tensorflow) (1.27.1)\n",
      "Requirement already satisfied: setuptools>=41.0.0 in /Users/isaque/.envs/deeplearning/lib/python3.8/site-packages (from tensorboard~=2.4->tensorflow) (53.0.0)\n",
      "Requirement already satisfied: tensorboard-data-server<0.7.0,>=0.6.0 in /Users/isaque/.envs/deeplearning/lib/python3.8/site-packages (from tensorboard~=2.4->tensorflow) (0.6.0)\n",
      "Requirement already satisfied: google-auth-oauthlib<0.5,>=0.4.1 in /Users/isaque/.envs/deeplearning/lib/python3.8/site-packages (from tensorboard~=2.4->tensorflow) (0.4.3)\n",
      "Requirement already satisfied: tensorboard-plugin-wit>=1.6.0 in /Users/isaque/.envs/deeplearning/lib/python3.8/site-packages (from tensorboard~=2.4->tensorflow) (1.8.0)\n",
      "Requirement already satisfied: pyasn1-modules>=0.2.1 in /Users/isaque/.envs/deeplearning/lib/python3.8/site-packages (from google-auth<2,>=1.6.3->tensorboard~=2.4->tensorflow) (0.2.8)\n",
      "Requirement already satisfied: cachetools<5.0,>=2.0.0 in /Users/isaque/.envs/deeplearning/lib/python3.8/site-packages (from google-auth<2,>=1.6.3->tensorboard~=2.4->tensorflow) (4.2.1)\n",
      "Requirement already satisfied: rsa<5,>=3.1.4 in /Users/isaque/.envs/deeplearning/lib/python3.8/site-packages (from google-auth<2,>=1.6.3->tensorboard~=2.4->tensorflow) (4.7.2)\n",
      "Requirement already satisfied: requests-oauthlib>=0.7.0 in /Users/isaque/.envs/deeplearning/lib/python3.8/site-packages (from google-auth-oauthlib<0.5,>=0.4.1->tensorboard~=2.4->tensorflow) (1.3.0)\n",
      "Requirement already satisfied: pyasn1<0.5.0,>=0.4.6 in /Users/isaque/.envs/deeplearning/lib/python3.8/site-packages (from pyasn1-modules>=0.2.1->google-auth<2,>=1.6.3->tensorboard~=2.4->tensorflow) (0.4.8)\n",
      "Requirement already satisfied: urllib3<1.27,>=1.21.1 in /Users/isaque/.envs/deeplearning/lib/python3.8/site-packages (from requests<3,>=2.21.0->tensorboard~=2.4->tensorflow) (1.26.3)\n",
      "Requirement already satisfied: idna<3,>=2.5 in /Users/isaque/.envs/deeplearning/lib/python3.8/site-packages (from requests<3,>=2.21.0->tensorboard~=2.4->tensorflow) (2.10)\n",
      "Requirement already satisfied: certifi>=2017.4.17 in /Users/isaque/.envs/deeplearning/lib/python3.8/site-packages (from requests<3,>=2.21.0->tensorboard~=2.4->tensorflow) (2020.12.5)\n",
      "Requirement already satisfied: chardet<5,>=3.0.2 in /Users/isaque/.envs/deeplearning/lib/python3.8/site-packages (from requests<3,>=2.21.0->tensorboard~=2.4->tensorflow) (4.0.0)\n",
      "Requirement already satisfied: oauthlib>=3.0.0 in /Users/isaque/.envs/deeplearning/lib/python3.8/site-packages (from requests-oauthlib>=0.7.0->google-auth-oauthlib<0.5,>=0.4.1->tensorboard~=2.4->tensorflow) (3.1.0)\n",
      "\u001b[33mWARNING: You are using pip version 21.0.1; however, version 21.1.1 is available.\n",
      "You should consider upgrading via the '/Users/isaque/.envs/deeplearning/bin/python -m pip install --upgrade pip' command.\u001b[0m\n"
     ]
    }
   ],
   "source": [
    "!pip install --upgrade tensorflow keras Pillow"
   ]
  },
  {
   "cell_type": "code",
   "execution_count": 2,
   "id": "dense-forestry",
   "metadata": {},
   "outputs": [],
   "source": [
    "import tensorflow as tf\n",
    "from keras.preprocessing.image import ImageDataGenerator\n",
    "\n",
    "import matplotlib.pyplot as plt\n",
    "import seaborn as sns"
   ]
  },
  {
   "cell_type": "code",
   "execution_count": 5,
   "id": "rough-today",
   "metadata": {},
   "outputs": [
    {
     "data": {
      "text/plain": [
       "'2.4.1'"
      ]
     },
     "execution_count": 5,
     "metadata": {},
     "output_type": "execute_result"
    }
   ],
   "source": [
    "tf.__version__"
   ]
  },
  {
   "cell_type": "markdown",
   "id": "direct-advocacy",
   "metadata": {},
   "source": [
    "# Data Preprocessing\n",
    "\n"
   ]
  },
  {
   "cell_type": "code",
   "execution_count": 22,
   "id": "brilliant-windows",
   "metadata": {},
   "outputs": [
    {
     "name": "stdout",
     "output_type": "stream",
     "text": [
      "Found 327 files belonging to 2 classes.\n",
      "dict_keys(['_input_dataset', '_batch_size', '_drop_remainder', '_structure', '_variant_tensor_attr', '_self_setattr_tracking', '_self_unconditional_checkpoint_dependencies', '_self_unconditional_dependency_names', '_self_unconditional_deferred_dependencies', '_self_update_uid', '_self_name_based_restores', '_self_saveable_object_factories', '_variant_tracker', '_graph_attr', '_options_attr', 'class_names', 'file_paths'])\n",
      "(TensorSpec(shape=(None, 256, 256, 3), dtype=tf.float32, name=None), TensorSpec(shape=(None,), dtype=tf.int32, name=None))\n"
     ]
    }
   ],
   "source": [
    "images = tf.keras.preprocessing.image_dataset_from_directory(\n",
    "    'dataset/training',\n",
    "    labels=\"inferred\",\n",
    "    label_mode=\"int\",\n",
    "    class_names=None,\n",
    "    color_mode=\"rgb\",\n",
    "    batch_size=32,\n",
    "    image_size=(256, 256),\n",
    "    shuffle=True,\n",
    "    seed=None,\n",
    "    validation_split=None,\n",
    "    subset=None,\n",
    "    interpolation=\"bilinear\",\n",
    "    follow_links=False,\n",
    ")\n",
    "print(images.__dict__.keys())\n",
    "print(images._structure)"
   ]
  },
  {
   "cell_type": "code",
   "execution_count": 74,
   "id": "forty-collar",
   "metadata": {},
   "outputs": [
    {
     "name": "stdout",
     "output_type": "stream",
     "text": [
      "Found 327 images belonging to 2 classes.\n",
      "{'image_data_generator': <tensorflow.python.keras.preprocessing.image.ImageDataGenerator object at 0x1557e6b20>, 'target_size': (64, 64), 'color_mode': 'rgb', 'data_format': 'channels_last', 'image_shape': (64, 64, 3), 'save_to_dir': None, 'save_prefix': '', 'save_format': 'png', 'interpolation': 'nearest', 'split': None, 'subset': None, 'directory': 'dataset/training', 'classes': array([0, 0, 0, 0, 0, 0, 0, 0, 0, 0, 0, 0, 0, 0, 0, 0, 0, 0, 0, 0, 0, 0,\n",
      "       0, 0, 0, 0, 0, 0, 0, 0, 0, 0, 0, 0, 0, 0, 0, 0, 0, 0, 0, 0, 0, 0,\n",
      "       0, 0, 0, 0, 0, 0, 0, 0, 0, 0, 0, 0, 0, 0, 0, 0, 0, 0, 0, 0, 0, 0,\n",
      "       0, 0, 0, 0, 0, 0, 0, 0, 0, 0, 0, 0, 0, 0, 0, 0, 0, 0, 0, 0, 0, 0,\n",
      "       0, 0, 0, 0, 0, 0, 0, 0, 0, 0, 0, 0, 0, 0, 0, 0, 0, 0, 0, 0, 0, 0,\n",
      "       0, 0, 0, 0, 0, 0, 0, 0, 0, 0, 0, 0, 0, 0, 0, 0, 0, 0, 0, 0, 0, 0,\n",
      "       0, 0, 0, 0, 0, 0, 0, 0, 0, 0, 0, 0, 0, 0, 0, 0, 0, 0, 0, 0, 0, 0,\n",
      "       0, 0, 0, 0, 0, 0, 0, 0, 0, 0, 0, 0, 0, 0, 0, 0, 0, 0, 0, 0, 0, 0,\n",
      "       0, 1, 1, 1, 1, 1, 1, 1, 1, 1, 1, 1, 1, 1, 1, 1, 1, 1, 1, 1, 1, 1,\n",
      "       1, 1, 1, 1, 1, 1, 1, 1, 1, 1, 1, 1, 1, 1, 1, 1, 1, 1, 1, 1, 1, 1,\n",
      "       1, 1, 1, 1, 1, 1, 1, 1, 1, 1, 1, 1, 1, 1, 1, 1, 1, 1, 1, 1, 1, 1,\n",
      "       1, 1, 1, 1, 1, 1, 1, 1, 1, 1, 1, 1, 1, 1, 1, 1, 1, 1, 1, 1, 1, 1,\n",
      "       1, 1, 1, 1, 1, 1, 1, 1, 1, 1, 1, 1, 1, 1, 1, 1, 1, 1, 1, 1, 1, 1,\n",
      "       1, 1, 1, 1, 1, 1, 1, 1, 1, 1, 1, 1, 1, 1, 1, 1, 1, 1, 1, 1, 1, 1,\n",
      "       1, 1, 1, 1, 1, 1, 1, 1, 1, 1, 1, 1, 1, 1, 1, 1, 1, 1, 1],\n",
      "      dtype=int32), 'class_mode': 'binary', 'dtype': 'float32', 'samples': 327, 'num_classes': 2, 'class_indices': {'negative': 0, 'positive': 1}, 'filenames': ['negative/0103fadb-1663-40a6-8a9e-09d626cd2091.png', 'negative/02002619-3dea-4038-8d4d-458db30ed8de.png', 'negative/05d3817a-5535-4e77-8dda-d4412e496c81.png', 'negative/069cfd47-0169-43e7-89a1-0be0fa24105b.png', 'negative/06b2f933-3ea2-4477-ac27-18f732d1f4e1.png', 'negative/070c921f-171c-420c-915b-e49e3f600c38.png', 'negative/07aeb82e-773b-4498-95c0-fabdf4985bb2.png', 'negative/080f2b35-fcd5-473e-864b-a7dea3054cc7.png', 'negative/0977f16c-c343-42c9-95ed-d7ca996feb16.png', 'negative/098906c5-cf22-43d3-9f0d-90e88e602090.png', 'negative/1414c7d6-dff3-453c-8322-b25bb5899d78.png', 'negative/153b7c2b-4909-4dca-8579-9523582bc4fe.png', 'negative/1565fd6c-9432-454a-87e4-937fd5ad5b60.png', 'negative/168f4fcb-a87d-49fc-b167-4ed42fd1ec43.png', 'negative/2348e8ba-483f-476d-b29d-5ba8398d7abc.png', 'negative/2397b2f6-3dfa-476c-89ea-e9992c5bd9a9.png', 'negative/275f9fff-2439-4f3f-9c48-7c21f348701a.png', 'negative/27b32500-40ef-4c14-ab88-ace5e9ceea27.png', 'negative/31692137-f770-4cfe-a02e-fd207ce813ac.png', 'negative/3186d210-966f-4733-ba72-98729be9551a.png', 'negative/32a5977f-f8ab-41c9-9b51-5387248e4675.png', 'negative/33e4e43b-054b-4537-9cd6-0fe574f7d337.png', 'negative/349f10b4-dc3e-4f3f-b2e4-a5b81448ce87.png', 'negative/34bf2fcd-131a-428c-9a21-cd2fa9041f9b.png', 'negative/34fbff70-fa6e-4709-ab07-17f739fce394.png', 'negative/354c3756-43ed-4921-adf8-60be49a8b7e8.png', 'negative/35cda03a-0898-4f8b-92d3-6f263aed23ff.png', 'negative/372b2fea-2013-4600-a06f-765c3f054a82.png', 'negative/3766b0a6-1769-4d82-b081-fa53531de34e.png', 'negative/37f17069-62ce-42ff-9fa4-d6a1056bd075.png', 'negative/393b8e45-6d97-4013-8100-27ebf07a1dad.png', 'negative/3f504abe-2133-4e09-98af-743cdea486f9.png', 'negative/3fe1550e-8bcb-4732-a343-725acce70531.png', 'negative/40a2f7fd-342e-494b-a7e0-5857b73ec582.png', 'negative/41bf2042-53a2-44a8-9a29-55e643af5ac0.png', 'negative/436dce2a-06c3-4281-bb8e-840497a49381.png', 'negative/45dd0d26-0740-4c32-bd01-34246a41f3e3.png', 'negative/47c78742-4998-4878-aec4-37b11b1354ac.png', 'negative/49b2fb17-b12c-4e5a-8c4a-02449027c42b.png', 'negative/4b1cab8a-c9bd-40e6-bc86-23c6be98a099.png', 'negative/4bc8ce99-2420-48c2-a768-d067da67ced2.png', 'negative/4dbc44ca-694a-4814-9a24-bc60c8d8d611.png', 'negative/585f5059-8938-4885-accb-d7d0b1097c60.png', 'negative/5acc56a4-1b6e-4394-9364-9772047d583f.png', 'negative/5b12801f-aaf7-442e-b994-ec8f15ce78e5.png', 'negative/5d4c7318-4739-4470-89f3-70bbbca95f10.png', 'negative/5eb932e2-3455-40fe-93db-ae44f897d9e0.png', 'negative/5f137fa7-6539-499e-b0d5-0e481221bf5a.png', 'negative/63192a6c-02ba-48a5-932a-bb82aeacb1bc.png', 'negative/633d9182-1809-41b7-a59b-1e60ac91f0c9.png', 'negative/63f71157-7db6-476f-b320-ba2fcbe2543f.png', 'negative/652b519d-5eb4-4abc-93f7-15ae661a431f.png', 'negative/652d6bb3-56a0-4a89-9631-684ce27cfc4c.png', 'negative/6556ce72-1a60-40aa-aaf7-b50dbf07fae7.png', 'negative/6565a9e6-3f01-4de8-a18d-ade3121c5d7c.png', 'negative/6804008c-94eb-4870-ba6e-b06514073e71.png', 'negative/6b969591-8a07-49ed-9f65-fa19a453df59.png', 'negative/6df82c7a-a91e-487c-ae3a-9022b17d7c7a.png', 'negative/71d25920-4060-4a31-b7aa-cfbf4721a5c5.png', 'negative/71d8d6ec-253b-4272-a467-311828b2a35b.png', 'negative/73dca3d1-5c58-4c72-80a9-201deca7ffec.png', 'negative/766b8aea-3b43-4a34-b675-09f373ca066b.png', 'negative/76b180ab-242f-45d3-bce1-68df00c5ef45.png', 'negative/7817b551-d220-479b-815f-395f83e1dba1.png', 'negative/78c33a1a-8f22-476c-ae97-8190192102df.png', 'negative/7ca5c75a-1ec6-49a7-a3b0-93b6122a3170.png', 'negative/7fb3786c-5045-4a90-981d-c55b53d4d5d3.png', 'negative/854fee36-d54c-4cde-904d-ab77f5e2e091.png', 'negative/85bb48fe-e6d6-47de-bb71-d1636aced7dc.png', 'negative/85d84453-ab2d-4666-98e6-5df3cbb81f5b.png', 'negative/86853bbd-5af2-4551-8273-f2978dffdd76.png', 'negative/875b34e4-b58d-479f-954a-5b015071f448.png', 'negative/8989e25c-a698-48fc-b428-fff56931fc8f.png', 'negative/89dd8f63-8320-48f3-b142-d903f40d5c8c.png', 'negative/8ae822ae-a656-47ba-ac5b-848ce2256575.png', 'negative/8db71746-e837-43c2-bdf1-c44d1ab207e3.png', 'negative/91e187a5-771d-4a83-9601-e22ed326bc8e.png', 'negative/93b49de9-9267-43c2-a507-6885e4caeaba.png', 'negative/960131aa-4ce4-4b26-aa12-5f73d8d81453.png', 'negative/98bfaf7a-d80b-491e-a7e0-c5c7316bebe9.png', 'negative/99432aa3-8d61-4ff2-a79a-f0a0218d6fa2.png', 'negative/9e2ddac8-9a4c-448b-98c8-a840a548d0f7.png', 'negative/a0a8370a-dc3f-4f70-a440-e3fa9827928a.png', 'negative/a0b9597d-93f4-4a7c-a412-81cb78bccb66.png', 'negative/a17f7e03-42a6-41d3-82ad-d8a656826936.png', 'negative/a2616330-1f29-4019-928f-e2d62b3b737b.png', 'negative/a52aa522-a1b3-4f15-8609-f44bf96da2e3.png', 'negative/a6236ddd-6367-4569-b5f1-07d2df9390ad.png', 'negative/a6c364d2-b2d6-4b0b-a439-40b992ff65c7.png', 'negative/a77b32f6-1999-4cc6-8a0d-1ef7e53850f0.png', 'negative/a7aef71b-0fc8-4837-be79-4ced56e03439.png', 'negative/a8dfd068-69e9-4486-bb22-2a04f2f2e1a5.png', 'negative/a8e3ea7d-0b63-45cf-85d8-1078d3e2449d.png', 'negative/abff4044-3c0a-458f-b0c7-04254be7fc0c.png', 'negative/ac10f43e-03b8-43d2-bcae-6fe000542397.png', 'negative/ac648f87-a79f-4ce0-9439-23a8dd886b71.png', 'negative/acb5c720-f741-415c-993c-65855be08ffa.png', 'negative/ad446933-fb8e-4739-bb40-2063e796ffd8.png', 'negative/adce8349-6836-4328-ab63-f356d0bbe298.png', 'negative/ae06b30f-ae30-40d3-b237-c934ce499774.png', 'negative/aef87dc2-a097-4683-9fb1-d1af6838a16a.png', 'negative/af169d21-1c39-445e-82d8-5035182a3a8c.png', 'negative/af1d168c-4850-41e1-85b8-ff8fc645e671.png', 'negative/af2ff93b-2f33-4c91-bde1-1490fc435b50.png', 'negative/af6ef3d9-81c8-434e-bc5a-dbf89bc418aa.png', 'negative/afe1b6e2-203e-4ee5-856a-2f205d8bca2a.png', 'negative/b021293c-4dd0-450c-b1a4-2d72cedab0a2.png', 'negative/b42eaeb8-b6d3-41d7-836c-56fd0922abf6.png', 'negative/b479635e-4c58-4d27-879b-fb0e87b2a1aa.png', 'negative/b5007662-ff9c-49ad-9093-85ed7dc44bf4.png', 'negative/b51c3c24-f9aa-4039-9fc1-527a5567dff6.png', 'negative/b5234584-1487-492c-8742-444b9ca41c3d.png', 'negative/b540ba89-72f7-40f5-a916-376546c20014.png', 'negative/b5714c0f-6d0f-4c56-833f-8b83f19e982a.png', 'negative/b6db3041-1554-43ef-baca-58733b6717d6.png', 'negative/b76728e6-f44b-40bf-8688-e703d10d2039.png', 'negative/b852bc3c-0de5-4448-aff8-f96b2cc13d51.png', 'negative/b8d6b40d-2a3d-475f-88d3-03560f645223.png', 'negative/b8dd7d32-b177-4d1e-982f-6f0a743828fa.png', 'negative/baf8fe18-a7ca-4e9c-b3dc-5c80d474545b.png', 'negative/bb068d57-86a8-4347-bee0-e29d59ddef6b.png', 'negative/bc46651a-1314-44af-a834-1eb8a36e589e.png', 'negative/bca4aa4d-0cc9-4cc0-b06d-5b675194bf62.png', 'negative/bcdd92c8-2cde-4899-a6fc-46b875aaab62.png', 'negative/bd8facb9-dce0-4048-8249-e6078b28e1b7.png', 'negative/bd9af100-1805-4e0a-8875-4a4b7195f0d8.png', 'negative/becefa4b-f719-48c6-a903-85e391e026a4.png', 'negative/bfd795ae-7656-40fc-b44e-566515e52ed2.png', 'negative/c21157da-1f74-4966-ba4e-c144d8f5da2d.png', 'negative/c2b24ebd-2c40-48c3-ba39-177224dd7db0.png', 'negative/c3751c94-ea6f-4a7c-b3bf-87a54012fa80.png', 'negative/c3a6ca22-c09b-4be0-a59d-e52718fbb645.png', 'negative/c3c78e4e-1a31-4a92-be4b-0fc3c7f992a4.png', 'negative/c485a9bd-6e18-4328-8c5c-cf80f71aa35d.png', 'negative/ca3c90e4-f7fe-4f6e-b20b-81473deab4f0.png', 'negative/caa545b4-4eea-4e3a-90b1-c4c0789a1109.png', 'negative/cb7d021b-b273-436a-bd7a-e68c11ed3f6b.png', 'negative/cc3177c8-6570-497c-aef3-6fbddef692f6.png', 'negative/cd9d2d22-4395-4e4d-8837-cfb33c2bdaab.png', 'negative/cdac0980-033c-4685-b7e4-0a12c86a00a9.png', 'negative/d1e0d69c-a4df-485a-983c-535494221d1a.png', 'negative/d3ad2915-af30-426c-ad2d-1634df8c1b5f.png', 'negative/d535a3c8-c4a4-4856-b5cd-17f6332eac8b.png', 'negative/d82e5841-2f43-4eab-ac17-e98a2d90c51b.png', 'negative/d9884def-b31a-4861-9eea-27f97bffeba2.png', 'negative/dab2f334-331c-42c7-af09-a997092464b0.png', 'negative/dd4d6a4c-1e67-4911-bda2-7d8af75b1b19.png', 'negative/dee054ff-0e1a-4167-b814-cbf339cf689c.png', 'negative/dfa57c1f-01fb-4417-a1b5-0641a9b4bb84.png', 'negative/e155c13d-7ac7-4765-bb86-899349978413.png', 'negative/e1d23cbe-213d-48d6-a8c2-672c4e68285d.png', 'negative/e1d5a233-39ca-41dc-a289-b07c3e78cdb1.png', 'negative/e2e89418-6c0e-4f50-a2d9-6cd5e58feef0.png', 'negative/e4cd65ae-65de-44fc-a6b2-ebbc46d2e8d8.png', 'negative/e8485b0f-293d-4ca8-8b71-92db61c8ee3e.png', 'negative/e9e58e10-2795-4dec-a738-c9792ea8f685.png', 'negative/eaeb935a-7294-4dd3-8bf5-73ba781d28af.png', 'negative/ec0492da-e6be-49cf-8b18-dc143180f1a2.png', 'negative/ec09ddb3-9b0b-4749-9e0d-f94a4a7e5fed.png', 'negative/ed0c5d1e-934a-4e31-9221-3a6a69ec9c1b.png', 'negative/f0ba0019-718f-4677-a723-05c27dba2f3e.png', 'negative/f12d7b12-0398-4533-8f55-8772cc434945.png', 'negative/f1c8caa2-a6dc-40c0-ab85-4769688f1eec.png', 'negative/f31d1fb1-604b-4fec-b320-f07ce2694008.png', 'negative/f3b015ab-e337-4e7f-971d-eb7cc3dd4e92.png', 'negative/f59ae80d-d98e-465f-963a-1064764211f8.png', 'negative/f6236cb5-cc36-4ec4-895c-d11ce043341d.png', 'negative/f661fe70-2fc1-4564-9f53-45504c0b0688.png', 'negative/f7379744-be39-44b2-8816-a743857bd6a6.png', 'negative/f743c21e-5876-460b-bbd6-2e2dcca41baa.png', 'negative/f760c946-a103-4991-a6e5-ff60c24cd99f.png', 'negative/f8a11cd6-e541-4765-a41b-3d70b6f3481e.png', 'negative/fc958b63-5da8-448d-8962-3c5167dc9410.png', 'negative/fcd159f4-21d3-4169-a94b-95a2b5ccddcb.png', 'negative/fd7bad9a-1bff-49ec-9c6c-c9aae9e65726.png', 'negative/ff332704-48e0-445b-9188-b2a696d1f0d7.png', 'negative/ffba6230-71cf-4287-a0d1-887f5d16e95d.png', 'positive/MIDRC-RICORD-1C-419639-001603-23454-0.png', 'positive/MIDRC-RICORD-1C-419639-001629-03737-0.png', 'positive/MIDRC-RICORD-1C-419639-001661-28330-1.png', 'positive/MIDRC-RICORD-1C-419639-001699-69345-0.png', 'positive/MIDRC-RICORD-1C-419639-001735-74702-0.png', 'positive/MIDRC-RICORD-1C-419639-001762-18334-0.png', 'positive/MIDRC-RICORD-1C-419639-001782-15190-0.png', 'positive/MIDRC-RICORD-1C-419639-001829-30276-0.png', 'positive/MIDRC-RICORD-1C-419639-001882-13628-0.png', 'positive/MIDRC-RICORD-1C-419639-001903-65209-0.png', 'positive/MIDRC-RICORD-1C-419639-001932-82193-0.png', 'positive/MIDRC-RICORD-1C-419639-002043-49668-0.png', 'positive/MIDRC-RICORD-1C-419639-002050-25234-0.png', 'positive/MIDRC-RICORD-1C-419639-002088-09388-0.png', 'positive/MIDRC-RICORD-1C-419639-002114-73757-0.png', 'positive/MIDRC-RICORD-1C-419639-002281-83348-0.png', 'positive/MIDRC-RICORD-1C-419639-002309-84923-0.png', 'positive/MIDRC-RICORD-1C-419639-002310-52924-0.png', 'positive/MIDRC-RICORD-1C-419639-002374-98411-0.png', 'positive/MIDRC-RICORD-1C-419639-002376-07504-0.png', 'positive/MIDRC-RICORD-1C-419639-002401-32756-0.png', 'positive/MIDRC-RICORD-1C-419639-002463-12463-0.png', 'positive/MIDRC-RICORD-1C-419639-002472-45590-0.png', 'positive/MIDRC-RICORD-1C-419639-002528-57471-0.png', 'positive/MIDRC-RICORD-1C-419639-002601-92699-0.png', 'positive/MIDRC-RICORD-1C-419639-002724-03387-0.png', 'positive/MIDRC-RICORD-1C-419639-002733-79941-0.png', 'positive/MIDRC-RICORD-1C-419639-002757-16718-0.png', 'positive/MIDRC-RICORD-1C-419639-002768-13069-0.png', 'positive/MIDRC-RICORD-1C-419639-002784-76664-0.png', 'positive/MIDRC-RICORD-1C-419639-002871-45785-0.png', 'positive/MIDRC-RICORD-1C-419639-002889-42412-0.png', 'positive/MIDRC-RICORD-1C-419639-002895-42704-0.png', 'positive/MIDRC-RICORD-1C-419639-002929-69159-0.png', 'positive/MIDRC-RICORD-1C-419639-002997-12964-0.png', 'positive/MIDRC-RICORD-1C-419639-003021-81745-0.png', 'positive/MIDRC-RICORD-1C-419639-003024-14703-0.png', 'positive/MIDRC-RICORD-1C-419639-003027-36839-0.png', 'positive/MIDRC-RICORD-1C-419639-003060-04928-0.png', 'positive/MIDRC-RICORD-1C-419639-003080-09097-0.png', 'positive/MIDRC-RICORD-1C-419639-003099-52606-0.png', 'positive/MIDRC-RICORD-1C-419639-003102-68604-0.png', 'positive/MIDRC-RICORD-1C-419639-003105-50900-0.png', 'positive/MIDRC-RICORD-1C-419639-003116-57702-0.png', 'positive/MIDRC-RICORD-1C-419639-003157-67493-0.png', 'positive/MIDRC-RICORD-1C-419639-003169-42019-0.png', 'positive/MIDRC-RICORD-1C-419639-003186-86346-0.png', 'positive/MIDRC-RICORD-1C-419639-003187-73922-0.png', 'positive/MIDRC-RICORD-1C-419639-003191-84953-0.png', 'positive/MIDRC-RICORD-1C-419639-003199-43900-0.png', 'positive/MIDRC-RICORD-1C-419639-003203-21209-0.png', 'positive/MIDRC-RICORD-1C-419639-003216-61144-0.png', 'positive/MIDRC-RICORD-1C-419639-003232-50592-0.png', 'positive/MIDRC-RICORD-1C-419639-003251-46647-0.png', 'positive/MIDRC-RICORD-1C-419639-003257-00787-0.png', 'positive/MIDRC-RICORD-1C-419639-003318-64285-0.png', 'positive/MIDRC-RICORD-1C-419639-003319-99931-0.png', 'positive/MIDRC-RICORD-1C-419639-003334-51353-0.png', 'positive/MIDRC-RICORD-1C-419639-003336-50845-0.png', 'positive/MIDRC-RICORD-1C-419639-003338-57135-0.png', 'positive/MIDRC-RICORD-1C-419639-003340-85716-0.png', 'positive/MIDRC-RICORD-1C-419639-003360-73998-0.png', 'positive/MIDRC-RICORD-1C-419639-003365-72952-0.png', 'positive/MIDRC-RICORD-1C-419639-003371-97350-0.png', 'positive/MIDRC-RICORD-1C-419639-003380-99227-0.png', 'positive/MIDRC-RICORD-1C-440808-000009-08.98-0.png', 'positive/MIDRC-RICORD-1C-440808-000016-8.281-0.png', 'positive/MIDRC-RICORD-1C-440808-000019-8.433-0.png', 'positive/MIDRC-RICORD-1C-440808-000020-8.458-0.png', 'positive/MIDRC-RICORD-1C-SITE2-000001-16794-0.png', 'positive/MIDRC-RICORD-1C-SITE2-000002-65816-0.png', 'positive/MIDRC-RICORD-1C-SITE2-000003-00527-0.png', 'positive/MIDRC-RICORD-1C-SITE2-000014-81802-0.png', 'positive/MIDRC-RICORD-1C-SITE2-000015-91071-0.png', 'positive/MIDRC-RICORD-1C-SITE2-000018-55212-0.png', 'positive/MIDRC-RICORD-1C-SITE2-000023-20254-0.png', 'positive/MIDRC-RICORD-1C-SITE2-000028-53390-0.png', 'positive/MIDRC-RICORD-1C-SITE2-000029-97068-0.png', 'positive/MIDRC-RICORD-1C-SITE2-000034-76728-1.png', 'positive/MIDRC-RICORD-1C-SITE2-000035-19513-0.png', 'positive/MIDRC-RICORD-1C-SITE2-000045-76077-0.png', 'positive/MIDRC-RICORD-1C-SITE2-000048-66689-0.png', 'positive/MIDRC-RICORD-1C-SITE2-000058-42859-0.png', 'positive/MIDRC-RICORD-1C-SITE2-000066-97290-0.png', 'positive/MIDRC-RICORD-1C-SITE2-000067-11643-0.png', 'positive/MIDRC-RICORD-1C-SITE2-000068-39061-0.png', 'positive/MIDRC-RICORD-1C-SITE2-000072-79474-0.png', 'positive/MIDRC-RICORD-1C-SITE2-000094-94497-0.png', 'positive/MIDRC-RICORD-1C-SITE2-000096-37358-0.png', 'positive/MIDRC-RICORD-1C-SITE2-000097-16347-1.png', 'positive/MIDRC-RICORD-1C-SITE2-000098-66227-0.png', 'positive/MIDRC-RICORD-1C-SITE2-000099-22857-0.png', 'positive/MIDRC-RICORD-1C-SITE2-000105-65881-0.png', 'positive/MIDRC-RICORD-1C-SITE2-000106-15732-0.png', 'positive/MIDRC-RICORD-1C-SITE2-000108-12642-0.png', 'positive/MIDRC-RICORD-1C-SITE2-000115-40758-0.png', 'positive/MIDRC-RICORD-1C-SITE2-000116-25889-1.png', 'positive/MIDRC-RICORD-1C-SITE2-000120-98054-0.png', 'positive/MIDRC-RICORD-1C-SITE2-000124-65701-0.png', 'positive/MIDRC-RICORD-1C-SITE2-000125-08616-1.png', 'positive/MIDRC-RICORD-1C-SITE2-000127-30661-0.png', 'positive/MIDRC-RICORD-1C-SITE2-000131-16046-1.png', 'positive/MIDRC-RICORD-1C-SITE2-000135-64564-1.png', 'positive/MIDRC-RICORD-1C-SITE2-000136-21646-0.png', 'positive/MIDRC-RICORD-1C-SITE2-000141-46899-0.png', 'positive/MIDRC-RICORD-1C-SITE2-000142-56843-0.png', 'positive/MIDRC-RICORD-1C-SITE2-000147-13199-0.png', 'positive/MIDRC-RICORD-1C-SITE2-000149-71428-1.png', 'positive/MIDRC-RICORD-1C-SITE2-000153-84142-0.png', 'positive/MIDRC-RICORD-1C-SITE2-000154-41630-0.png', 'positive/MIDRC-RICORD-1C-SITE2-000155-37671-0.png', 'positive/MIDRC-RICORD-1C-SITE2-000159-61155-0.png', 'positive/MIDRC-RICORD-1C-SITE2-000162-64489-0.png', 'positive/MIDRC-RICORD-1C-SITE2-000168-32448-0.png', 'positive/MIDRC-RICORD-1C-SITE2-000170-25974-1.png', 'positive/MIDRC-RICORD-1C-SITE2-000171-45676-0.png', 'positive/MIDRC-RICORD-1C-SITE2-000173-80432-1.png', 'positive/MIDRC-RICORD-1C-SITE2-000176-81030-0.png', 'positive/MIDRC-RICORD-1C-SITE2-000178-89752-0.png', 'positive/MIDRC-RICORD-1C-SITE2-000179-48742-0.png', 'positive/MIDRC-RICORD-1C-SITE2-000181-63935-0.png', 'positive/MIDRC-RICORD-1C-SITE2-000182-35476-0.png', 'positive/MIDRC-RICORD-1C-SITE2-000185-39456-0.png', 'positive/MIDRC-RICORD-1C-SITE2-000188-54382-0.png', 'positive/MIDRC-RICORD-1C-SITE2-000200-97745-0.png', 'positive/MIDRC-RICORD-1C-SITE2-000202-80939-0.png', 'positive/MIDRC-RICORD-1C-SITE2-000203-08712-0.png', 'positive/MIDRC-RICORD-1C-SITE2-000204-24409-0.png', 'positive/MIDRC-RICORD-1C-SITE2-000206-25871-0.png', 'positive/MIDRC-RICORD-1C-SITE2-000207-20956-0.png', 'positive/MIDRC-RICORD-1C-SITE2-000208-34584-0.png', 'positive/MIDRC-RICORD-1C-SITE2-000210-51719-0.png', 'positive/MIDRC-RICORD-1C-SITE2-000211-85940-0.png', 'positive/MIDRC-RICORD-1C-SITE2-000217-73086-0.png', 'positive/MIDRC-RICORD-1C-SITE2-000220-78771-1.png', 'positive/MIDRC-RICORD-1C-SITE2-000221-43774-0.png', 'positive/MIDRC-RICORD-1C-SITE2-000229-76177-0.png', 'positive/MIDRC-RICORD-1C-SITE2-000230-35167-0.png', 'positive/MIDRC-RICORD-1C-SITE2-000235-44451-0.png', 'positive/MIDRC-RICORD-1C-SITE2-000237-52517-0.png', 'positive/MIDRC-RICORD-1C-SITE2-000238-25854-1.png', 'positive/MIDRC-RICORD-1C-SITE2-000239-21655-0.png', 'positive/MIDRC-RICORD-1C-SITE2-000244-77429-0.png', 'positive/MIDRC-RICORD-1C-SITE2-000265-99793-1.png', 'positive/MIDRC-RICORD-1C-SITE2-000270-57009-0.png', 'positive/MIDRC-RICORD-1C-SITE2-000272-41527-0.png', 'positive/MIDRC-RICORD-1C-SITE2-000279-56879-0.png', 'positive/MIDRC-RICORD-1C-SITE2-000283-41971-0.png', 'positive/MIDRC-RICORD-1C-SITE2-000291-42841-0.png', 'positive/MIDRC-RICORD-1C-SITE2-000297-71173-1.png'], '_filepaths': ['dataset/training/negative/0103fadb-1663-40a6-8a9e-09d626cd2091.png', 'dataset/training/negative/02002619-3dea-4038-8d4d-458db30ed8de.png', 'dataset/training/negative/05d3817a-5535-4e77-8dda-d4412e496c81.png', 'dataset/training/negative/069cfd47-0169-43e7-89a1-0be0fa24105b.png', 'dataset/training/negative/06b2f933-3ea2-4477-ac27-18f732d1f4e1.png', 'dataset/training/negative/070c921f-171c-420c-915b-e49e3f600c38.png', 'dataset/training/negative/07aeb82e-773b-4498-95c0-fabdf4985bb2.png', 'dataset/training/negative/080f2b35-fcd5-473e-864b-a7dea3054cc7.png', 'dataset/training/negative/0977f16c-c343-42c9-95ed-d7ca996feb16.png', 'dataset/training/negative/098906c5-cf22-43d3-9f0d-90e88e602090.png', 'dataset/training/negative/1414c7d6-dff3-453c-8322-b25bb5899d78.png', 'dataset/training/negative/153b7c2b-4909-4dca-8579-9523582bc4fe.png', 'dataset/training/negative/1565fd6c-9432-454a-87e4-937fd5ad5b60.png', 'dataset/training/negative/168f4fcb-a87d-49fc-b167-4ed42fd1ec43.png', 'dataset/training/negative/2348e8ba-483f-476d-b29d-5ba8398d7abc.png', 'dataset/training/negative/2397b2f6-3dfa-476c-89ea-e9992c5bd9a9.png', 'dataset/training/negative/275f9fff-2439-4f3f-9c48-7c21f348701a.png', 'dataset/training/negative/27b32500-40ef-4c14-ab88-ace5e9ceea27.png', 'dataset/training/negative/31692137-f770-4cfe-a02e-fd207ce813ac.png', 'dataset/training/negative/3186d210-966f-4733-ba72-98729be9551a.png', 'dataset/training/negative/32a5977f-f8ab-41c9-9b51-5387248e4675.png', 'dataset/training/negative/33e4e43b-054b-4537-9cd6-0fe574f7d337.png', 'dataset/training/negative/349f10b4-dc3e-4f3f-b2e4-a5b81448ce87.png', 'dataset/training/negative/34bf2fcd-131a-428c-9a21-cd2fa9041f9b.png', 'dataset/training/negative/34fbff70-fa6e-4709-ab07-17f739fce394.png', 'dataset/training/negative/354c3756-43ed-4921-adf8-60be49a8b7e8.png', 'dataset/training/negative/35cda03a-0898-4f8b-92d3-6f263aed23ff.png', 'dataset/training/negative/372b2fea-2013-4600-a06f-765c3f054a82.png', 'dataset/training/negative/3766b0a6-1769-4d82-b081-fa53531de34e.png', 'dataset/training/negative/37f17069-62ce-42ff-9fa4-d6a1056bd075.png', 'dataset/training/negative/393b8e45-6d97-4013-8100-27ebf07a1dad.png', 'dataset/training/negative/3f504abe-2133-4e09-98af-743cdea486f9.png', 'dataset/training/negative/3fe1550e-8bcb-4732-a343-725acce70531.png', 'dataset/training/negative/40a2f7fd-342e-494b-a7e0-5857b73ec582.png', 'dataset/training/negative/41bf2042-53a2-44a8-9a29-55e643af5ac0.png', 'dataset/training/negative/436dce2a-06c3-4281-bb8e-840497a49381.png', 'dataset/training/negative/45dd0d26-0740-4c32-bd01-34246a41f3e3.png', 'dataset/training/negative/47c78742-4998-4878-aec4-37b11b1354ac.png', 'dataset/training/negative/49b2fb17-b12c-4e5a-8c4a-02449027c42b.png', 'dataset/training/negative/4b1cab8a-c9bd-40e6-bc86-23c6be98a099.png', 'dataset/training/negative/4bc8ce99-2420-48c2-a768-d067da67ced2.png', 'dataset/training/negative/4dbc44ca-694a-4814-9a24-bc60c8d8d611.png', 'dataset/training/negative/585f5059-8938-4885-accb-d7d0b1097c60.png', 'dataset/training/negative/5acc56a4-1b6e-4394-9364-9772047d583f.png', 'dataset/training/negative/5b12801f-aaf7-442e-b994-ec8f15ce78e5.png', 'dataset/training/negative/5d4c7318-4739-4470-89f3-70bbbca95f10.png', 'dataset/training/negative/5eb932e2-3455-40fe-93db-ae44f897d9e0.png', 'dataset/training/negative/5f137fa7-6539-499e-b0d5-0e481221bf5a.png', 'dataset/training/negative/63192a6c-02ba-48a5-932a-bb82aeacb1bc.png', 'dataset/training/negative/633d9182-1809-41b7-a59b-1e60ac91f0c9.png', 'dataset/training/negative/63f71157-7db6-476f-b320-ba2fcbe2543f.png', 'dataset/training/negative/652b519d-5eb4-4abc-93f7-15ae661a431f.png', 'dataset/training/negative/652d6bb3-56a0-4a89-9631-684ce27cfc4c.png', 'dataset/training/negative/6556ce72-1a60-40aa-aaf7-b50dbf07fae7.png', 'dataset/training/negative/6565a9e6-3f01-4de8-a18d-ade3121c5d7c.png', 'dataset/training/negative/6804008c-94eb-4870-ba6e-b06514073e71.png', 'dataset/training/negative/6b969591-8a07-49ed-9f65-fa19a453df59.png', 'dataset/training/negative/6df82c7a-a91e-487c-ae3a-9022b17d7c7a.png', 'dataset/training/negative/71d25920-4060-4a31-b7aa-cfbf4721a5c5.png', 'dataset/training/negative/71d8d6ec-253b-4272-a467-311828b2a35b.png', 'dataset/training/negative/73dca3d1-5c58-4c72-80a9-201deca7ffec.png', 'dataset/training/negative/766b8aea-3b43-4a34-b675-09f373ca066b.png', 'dataset/training/negative/76b180ab-242f-45d3-bce1-68df00c5ef45.png', 'dataset/training/negative/7817b551-d220-479b-815f-395f83e1dba1.png', 'dataset/training/negative/78c33a1a-8f22-476c-ae97-8190192102df.png', 'dataset/training/negative/7ca5c75a-1ec6-49a7-a3b0-93b6122a3170.png', 'dataset/training/negative/7fb3786c-5045-4a90-981d-c55b53d4d5d3.png', 'dataset/training/negative/854fee36-d54c-4cde-904d-ab77f5e2e091.png', 'dataset/training/negative/85bb48fe-e6d6-47de-bb71-d1636aced7dc.png', 'dataset/training/negative/85d84453-ab2d-4666-98e6-5df3cbb81f5b.png', 'dataset/training/negative/86853bbd-5af2-4551-8273-f2978dffdd76.png', 'dataset/training/negative/875b34e4-b58d-479f-954a-5b015071f448.png', 'dataset/training/negative/8989e25c-a698-48fc-b428-fff56931fc8f.png', 'dataset/training/negative/89dd8f63-8320-48f3-b142-d903f40d5c8c.png', 'dataset/training/negative/8ae822ae-a656-47ba-ac5b-848ce2256575.png', 'dataset/training/negative/8db71746-e837-43c2-bdf1-c44d1ab207e3.png', 'dataset/training/negative/91e187a5-771d-4a83-9601-e22ed326bc8e.png', 'dataset/training/negative/93b49de9-9267-43c2-a507-6885e4caeaba.png', 'dataset/training/negative/960131aa-4ce4-4b26-aa12-5f73d8d81453.png', 'dataset/training/negative/98bfaf7a-d80b-491e-a7e0-c5c7316bebe9.png', 'dataset/training/negative/99432aa3-8d61-4ff2-a79a-f0a0218d6fa2.png', 'dataset/training/negative/9e2ddac8-9a4c-448b-98c8-a840a548d0f7.png', 'dataset/training/negative/a0a8370a-dc3f-4f70-a440-e3fa9827928a.png', 'dataset/training/negative/a0b9597d-93f4-4a7c-a412-81cb78bccb66.png', 'dataset/training/negative/a17f7e03-42a6-41d3-82ad-d8a656826936.png', 'dataset/training/negative/a2616330-1f29-4019-928f-e2d62b3b737b.png', 'dataset/training/negative/a52aa522-a1b3-4f15-8609-f44bf96da2e3.png', 'dataset/training/negative/a6236ddd-6367-4569-b5f1-07d2df9390ad.png', 'dataset/training/negative/a6c364d2-b2d6-4b0b-a439-40b992ff65c7.png', 'dataset/training/negative/a77b32f6-1999-4cc6-8a0d-1ef7e53850f0.png', 'dataset/training/negative/a7aef71b-0fc8-4837-be79-4ced56e03439.png', 'dataset/training/negative/a8dfd068-69e9-4486-bb22-2a04f2f2e1a5.png', 'dataset/training/negative/a8e3ea7d-0b63-45cf-85d8-1078d3e2449d.png', 'dataset/training/negative/abff4044-3c0a-458f-b0c7-04254be7fc0c.png', 'dataset/training/negative/ac10f43e-03b8-43d2-bcae-6fe000542397.png', 'dataset/training/negative/ac648f87-a79f-4ce0-9439-23a8dd886b71.png', 'dataset/training/negative/acb5c720-f741-415c-993c-65855be08ffa.png', 'dataset/training/negative/ad446933-fb8e-4739-bb40-2063e796ffd8.png', 'dataset/training/negative/adce8349-6836-4328-ab63-f356d0bbe298.png', 'dataset/training/negative/ae06b30f-ae30-40d3-b237-c934ce499774.png', 'dataset/training/negative/aef87dc2-a097-4683-9fb1-d1af6838a16a.png', 'dataset/training/negative/af169d21-1c39-445e-82d8-5035182a3a8c.png', 'dataset/training/negative/af1d168c-4850-41e1-85b8-ff8fc645e671.png', 'dataset/training/negative/af2ff93b-2f33-4c91-bde1-1490fc435b50.png', 'dataset/training/negative/af6ef3d9-81c8-434e-bc5a-dbf89bc418aa.png', 'dataset/training/negative/afe1b6e2-203e-4ee5-856a-2f205d8bca2a.png', 'dataset/training/negative/b021293c-4dd0-450c-b1a4-2d72cedab0a2.png', 'dataset/training/negative/b42eaeb8-b6d3-41d7-836c-56fd0922abf6.png', 'dataset/training/negative/b479635e-4c58-4d27-879b-fb0e87b2a1aa.png', 'dataset/training/negative/b5007662-ff9c-49ad-9093-85ed7dc44bf4.png', 'dataset/training/negative/b51c3c24-f9aa-4039-9fc1-527a5567dff6.png', 'dataset/training/negative/b5234584-1487-492c-8742-444b9ca41c3d.png', 'dataset/training/negative/b540ba89-72f7-40f5-a916-376546c20014.png', 'dataset/training/negative/b5714c0f-6d0f-4c56-833f-8b83f19e982a.png', 'dataset/training/negative/b6db3041-1554-43ef-baca-58733b6717d6.png', 'dataset/training/negative/b76728e6-f44b-40bf-8688-e703d10d2039.png', 'dataset/training/negative/b852bc3c-0de5-4448-aff8-f96b2cc13d51.png', 'dataset/training/negative/b8d6b40d-2a3d-475f-88d3-03560f645223.png', 'dataset/training/negative/b8dd7d32-b177-4d1e-982f-6f0a743828fa.png', 'dataset/training/negative/baf8fe18-a7ca-4e9c-b3dc-5c80d474545b.png', 'dataset/training/negative/bb068d57-86a8-4347-bee0-e29d59ddef6b.png', 'dataset/training/negative/bc46651a-1314-44af-a834-1eb8a36e589e.png', 'dataset/training/negative/bca4aa4d-0cc9-4cc0-b06d-5b675194bf62.png', 'dataset/training/negative/bcdd92c8-2cde-4899-a6fc-46b875aaab62.png', 'dataset/training/negative/bd8facb9-dce0-4048-8249-e6078b28e1b7.png', 'dataset/training/negative/bd9af100-1805-4e0a-8875-4a4b7195f0d8.png', 'dataset/training/negative/becefa4b-f719-48c6-a903-85e391e026a4.png', 'dataset/training/negative/bfd795ae-7656-40fc-b44e-566515e52ed2.png', 'dataset/training/negative/c21157da-1f74-4966-ba4e-c144d8f5da2d.png', 'dataset/training/negative/c2b24ebd-2c40-48c3-ba39-177224dd7db0.png', 'dataset/training/negative/c3751c94-ea6f-4a7c-b3bf-87a54012fa80.png', 'dataset/training/negative/c3a6ca22-c09b-4be0-a59d-e52718fbb645.png', 'dataset/training/negative/c3c78e4e-1a31-4a92-be4b-0fc3c7f992a4.png', 'dataset/training/negative/c485a9bd-6e18-4328-8c5c-cf80f71aa35d.png', 'dataset/training/negative/ca3c90e4-f7fe-4f6e-b20b-81473deab4f0.png', 'dataset/training/negative/caa545b4-4eea-4e3a-90b1-c4c0789a1109.png', 'dataset/training/negative/cb7d021b-b273-436a-bd7a-e68c11ed3f6b.png', 'dataset/training/negative/cc3177c8-6570-497c-aef3-6fbddef692f6.png', 'dataset/training/negative/cd9d2d22-4395-4e4d-8837-cfb33c2bdaab.png', 'dataset/training/negative/cdac0980-033c-4685-b7e4-0a12c86a00a9.png', 'dataset/training/negative/d1e0d69c-a4df-485a-983c-535494221d1a.png', 'dataset/training/negative/d3ad2915-af30-426c-ad2d-1634df8c1b5f.png', 'dataset/training/negative/d535a3c8-c4a4-4856-b5cd-17f6332eac8b.png', 'dataset/training/negative/d82e5841-2f43-4eab-ac17-e98a2d90c51b.png', 'dataset/training/negative/d9884def-b31a-4861-9eea-27f97bffeba2.png', 'dataset/training/negative/dab2f334-331c-42c7-af09-a997092464b0.png', 'dataset/training/negative/dd4d6a4c-1e67-4911-bda2-7d8af75b1b19.png', 'dataset/training/negative/dee054ff-0e1a-4167-b814-cbf339cf689c.png', 'dataset/training/negative/dfa57c1f-01fb-4417-a1b5-0641a9b4bb84.png', 'dataset/training/negative/e155c13d-7ac7-4765-bb86-899349978413.png', 'dataset/training/negative/e1d23cbe-213d-48d6-a8c2-672c4e68285d.png', 'dataset/training/negative/e1d5a233-39ca-41dc-a289-b07c3e78cdb1.png', 'dataset/training/negative/e2e89418-6c0e-4f50-a2d9-6cd5e58feef0.png', 'dataset/training/negative/e4cd65ae-65de-44fc-a6b2-ebbc46d2e8d8.png', 'dataset/training/negative/e8485b0f-293d-4ca8-8b71-92db61c8ee3e.png', 'dataset/training/negative/e9e58e10-2795-4dec-a738-c9792ea8f685.png', 'dataset/training/negative/eaeb935a-7294-4dd3-8bf5-73ba781d28af.png', 'dataset/training/negative/ec0492da-e6be-49cf-8b18-dc143180f1a2.png', 'dataset/training/negative/ec09ddb3-9b0b-4749-9e0d-f94a4a7e5fed.png', 'dataset/training/negative/ed0c5d1e-934a-4e31-9221-3a6a69ec9c1b.png', 'dataset/training/negative/f0ba0019-718f-4677-a723-05c27dba2f3e.png', 'dataset/training/negative/f12d7b12-0398-4533-8f55-8772cc434945.png', 'dataset/training/negative/f1c8caa2-a6dc-40c0-ab85-4769688f1eec.png', 'dataset/training/negative/f31d1fb1-604b-4fec-b320-f07ce2694008.png', 'dataset/training/negative/f3b015ab-e337-4e7f-971d-eb7cc3dd4e92.png', 'dataset/training/negative/f59ae80d-d98e-465f-963a-1064764211f8.png', 'dataset/training/negative/f6236cb5-cc36-4ec4-895c-d11ce043341d.png', 'dataset/training/negative/f661fe70-2fc1-4564-9f53-45504c0b0688.png', 'dataset/training/negative/f7379744-be39-44b2-8816-a743857bd6a6.png', 'dataset/training/negative/f743c21e-5876-460b-bbd6-2e2dcca41baa.png', 'dataset/training/negative/f760c946-a103-4991-a6e5-ff60c24cd99f.png', 'dataset/training/negative/f8a11cd6-e541-4765-a41b-3d70b6f3481e.png', 'dataset/training/negative/fc958b63-5da8-448d-8962-3c5167dc9410.png', 'dataset/training/negative/fcd159f4-21d3-4169-a94b-95a2b5ccddcb.png', 'dataset/training/negative/fd7bad9a-1bff-49ec-9c6c-c9aae9e65726.png', 'dataset/training/negative/ff332704-48e0-445b-9188-b2a696d1f0d7.png', 'dataset/training/negative/ffba6230-71cf-4287-a0d1-887f5d16e95d.png', 'dataset/training/positive/MIDRC-RICORD-1C-419639-001603-23454-0.png', 'dataset/training/positive/MIDRC-RICORD-1C-419639-001629-03737-0.png', 'dataset/training/positive/MIDRC-RICORD-1C-419639-001661-28330-1.png', 'dataset/training/positive/MIDRC-RICORD-1C-419639-001699-69345-0.png', 'dataset/training/positive/MIDRC-RICORD-1C-419639-001735-74702-0.png', 'dataset/training/positive/MIDRC-RICORD-1C-419639-001762-18334-0.png', 'dataset/training/positive/MIDRC-RICORD-1C-419639-001782-15190-0.png', 'dataset/training/positive/MIDRC-RICORD-1C-419639-001829-30276-0.png', 'dataset/training/positive/MIDRC-RICORD-1C-419639-001882-13628-0.png', 'dataset/training/positive/MIDRC-RICORD-1C-419639-001903-65209-0.png', 'dataset/training/positive/MIDRC-RICORD-1C-419639-001932-82193-0.png', 'dataset/training/positive/MIDRC-RICORD-1C-419639-002043-49668-0.png', 'dataset/training/positive/MIDRC-RICORD-1C-419639-002050-25234-0.png', 'dataset/training/positive/MIDRC-RICORD-1C-419639-002088-09388-0.png', 'dataset/training/positive/MIDRC-RICORD-1C-419639-002114-73757-0.png', 'dataset/training/positive/MIDRC-RICORD-1C-419639-002281-83348-0.png', 'dataset/training/positive/MIDRC-RICORD-1C-419639-002309-84923-0.png', 'dataset/training/positive/MIDRC-RICORD-1C-419639-002310-52924-0.png', 'dataset/training/positive/MIDRC-RICORD-1C-419639-002374-98411-0.png', 'dataset/training/positive/MIDRC-RICORD-1C-419639-002376-07504-0.png', 'dataset/training/positive/MIDRC-RICORD-1C-419639-002401-32756-0.png', 'dataset/training/positive/MIDRC-RICORD-1C-419639-002463-12463-0.png', 'dataset/training/positive/MIDRC-RICORD-1C-419639-002472-45590-0.png', 'dataset/training/positive/MIDRC-RICORD-1C-419639-002528-57471-0.png', 'dataset/training/positive/MIDRC-RICORD-1C-419639-002601-92699-0.png', 'dataset/training/positive/MIDRC-RICORD-1C-419639-002724-03387-0.png', 'dataset/training/positive/MIDRC-RICORD-1C-419639-002733-79941-0.png', 'dataset/training/positive/MIDRC-RICORD-1C-419639-002757-16718-0.png', 'dataset/training/positive/MIDRC-RICORD-1C-419639-002768-13069-0.png', 'dataset/training/positive/MIDRC-RICORD-1C-419639-002784-76664-0.png', 'dataset/training/positive/MIDRC-RICORD-1C-419639-002871-45785-0.png', 'dataset/training/positive/MIDRC-RICORD-1C-419639-002889-42412-0.png', 'dataset/training/positive/MIDRC-RICORD-1C-419639-002895-42704-0.png', 'dataset/training/positive/MIDRC-RICORD-1C-419639-002929-69159-0.png', 'dataset/training/positive/MIDRC-RICORD-1C-419639-002997-12964-0.png', 'dataset/training/positive/MIDRC-RICORD-1C-419639-003021-81745-0.png', 'dataset/training/positive/MIDRC-RICORD-1C-419639-003024-14703-0.png', 'dataset/training/positive/MIDRC-RICORD-1C-419639-003027-36839-0.png', 'dataset/training/positive/MIDRC-RICORD-1C-419639-003060-04928-0.png', 'dataset/training/positive/MIDRC-RICORD-1C-419639-003080-09097-0.png', 'dataset/training/positive/MIDRC-RICORD-1C-419639-003099-52606-0.png', 'dataset/training/positive/MIDRC-RICORD-1C-419639-003102-68604-0.png', 'dataset/training/positive/MIDRC-RICORD-1C-419639-003105-50900-0.png', 'dataset/training/positive/MIDRC-RICORD-1C-419639-003116-57702-0.png', 'dataset/training/positive/MIDRC-RICORD-1C-419639-003157-67493-0.png', 'dataset/training/positive/MIDRC-RICORD-1C-419639-003169-42019-0.png', 'dataset/training/positive/MIDRC-RICORD-1C-419639-003186-86346-0.png', 'dataset/training/positive/MIDRC-RICORD-1C-419639-003187-73922-0.png', 'dataset/training/positive/MIDRC-RICORD-1C-419639-003191-84953-0.png', 'dataset/training/positive/MIDRC-RICORD-1C-419639-003199-43900-0.png', 'dataset/training/positive/MIDRC-RICORD-1C-419639-003203-21209-0.png', 'dataset/training/positive/MIDRC-RICORD-1C-419639-003216-61144-0.png', 'dataset/training/positive/MIDRC-RICORD-1C-419639-003232-50592-0.png', 'dataset/training/positive/MIDRC-RICORD-1C-419639-003251-46647-0.png', 'dataset/training/positive/MIDRC-RICORD-1C-419639-003257-00787-0.png', 'dataset/training/positive/MIDRC-RICORD-1C-419639-003318-64285-0.png', 'dataset/training/positive/MIDRC-RICORD-1C-419639-003319-99931-0.png', 'dataset/training/positive/MIDRC-RICORD-1C-419639-003334-51353-0.png', 'dataset/training/positive/MIDRC-RICORD-1C-419639-003336-50845-0.png', 'dataset/training/positive/MIDRC-RICORD-1C-419639-003338-57135-0.png', 'dataset/training/positive/MIDRC-RICORD-1C-419639-003340-85716-0.png', 'dataset/training/positive/MIDRC-RICORD-1C-419639-003360-73998-0.png', 'dataset/training/positive/MIDRC-RICORD-1C-419639-003365-72952-0.png', 'dataset/training/positive/MIDRC-RICORD-1C-419639-003371-97350-0.png', 'dataset/training/positive/MIDRC-RICORD-1C-419639-003380-99227-0.png', 'dataset/training/positive/MIDRC-RICORD-1C-440808-000009-08.98-0.png', 'dataset/training/positive/MIDRC-RICORD-1C-440808-000016-8.281-0.png', 'dataset/training/positive/MIDRC-RICORD-1C-440808-000019-8.433-0.png', 'dataset/training/positive/MIDRC-RICORD-1C-440808-000020-8.458-0.png', 'dataset/training/positive/MIDRC-RICORD-1C-SITE2-000001-16794-0.png', 'dataset/training/positive/MIDRC-RICORD-1C-SITE2-000002-65816-0.png', 'dataset/training/positive/MIDRC-RICORD-1C-SITE2-000003-00527-0.png', 'dataset/training/positive/MIDRC-RICORD-1C-SITE2-000014-81802-0.png', 'dataset/training/positive/MIDRC-RICORD-1C-SITE2-000015-91071-0.png', 'dataset/training/positive/MIDRC-RICORD-1C-SITE2-000018-55212-0.png', 'dataset/training/positive/MIDRC-RICORD-1C-SITE2-000023-20254-0.png', 'dataset/training/positive/MIDRC-RICORD-1C-SITE2-000028-53390-0.png', 'dataset/training/positive/MIDRC-RICORD-1C-SITE2-000029-97068-0.png', 'dataset/training/positive/MIDRC-RICORD-1C-SITE2-000034-76728-1.png', 'dataset/training/positive/MIDRC-RICORD-1C-SITE2-000035-19513-0.png', 'dataset/training/positive/MIDRC-RICORD-1C-SITE2-000045-76077-0.png', 'dataset/training/positive/MIDRC-RICORD-1C-SITE2-000048-66689-0.png', 'dataset/training/positive/MIDRC-RICORD-1C-SITE2-000058-42859-0.png', 'dataset/training/positive/MIDRC-RICORD-1C-SITE2-000066-97290-0.png', 'dataset/training/positive/MIDRC-RICORD-1C-SITE2-000067-11643-0.png', 'dataset/training/positive/MIDRC-RICORD-1C-SITE2-000068-39061-0.png', 'dataset/training/positive/MIDRC-RICORD-1C-SITE2-000072-79474-0.png', 'dataset/training/positive/MIDRC-RICORD-1C-SITE2-000094-94497-0.png', 'dataset/training/positive/MIDRC-RICORD-1C-SITE2-000096-37358-0.png', 'dataset/training/positive/MIDRC-RICORD-1C-SITE2-000097-16347-1.png', 'dataset/training/positive/MIDRC-RICORD-1C-SITE2-000098-66227-0.png', 'dataset/training/positive/MIDRC-RICORD-1C-SITE2-000099-22857-0.png', 'dataset/training/positive/MIDRC-RICORD-1C-SITE2-000105-65881-0.png', 'dataset/training/positive/MIDRC-RICORD-1C-SITE2-000106-15732-0.png', 'dataset/training/positive/MIDRC-RICORD-1C-SITE2-000108-12642-0.png', 'dataset/training/positive/MIDRC-RICORD-1C-SITE2-000115-40758-0.png', 'dataset/training/positive/MIDRC-RICORD-1C-SITE2-000116-25889-1.png', 'dataset/training/positive/MIDRC-RICORD-1C-SITE2-000120-98054-0.png', 'dataset/training/positive/MIDRC-RICORD-1C-SITE2-000124-65701-0.png', 'dataset/training/positive/MIDRC-RICORD-1C-SITE2-000125-08616-1.png', 'dataset/training/positive/MIDRC-RICORD-1C-SITE2-000127-30661-0.png', 'dataset/training/positive/MIDRC-RICORD-1C-SITE2-000131-16046-1.png', 'dataset/training/positive/MIDRC-RICORD-1C-SITE2-000135-64564-1.png', 'dataset/training/positive/MIDRC-RICORD-1C-SITE2-000136-21646-0.png', 'dataset/training/positive/MIDRC-RICORD-1C-SITE2-000141-46899-0.png', 'dataset/training/positive/MIDRC-RICORD-1C-SITE2-000142-56843-0.png', 'dataset/training/positive/MIDRC-RICORD-1C-SITE2-000147-13199-0.png', 'dataset/training/positive/MIDRC-RICORD-1C-SITE2-000149-71428-1.png', 'dataset/training/positive/MIDRC-RICORD-1C-SITE2-000153-84142-0.png', 'dataset/training/positive/MIDRC-RICORD-1C-SITE2-000154-41630-0.png', 'dataset/training/positive/MIDRC-RICORD-1C-SITE2-000155-37671-0.png', 'dataset/training/positive/MIDRC-RICORD-1C-SITE2-000159-61155-0.png', 'dataset/training/positive/MIDRC-RICORD-1C-SITE2-000162-64489-0.png', 'dataset/training/positive/MIDRC-RICORD-1C-SITE2-000168-32448-0.png', 'dataset/training/positive/MIDRC-RICORD-1C-SITE2-000170-25974-1.png', 'dataset/training/positive/MIDRC-RICORD-1C-SITE2-000171-45676-0.png', 'dataset/training/positive/MIDRC-RICORD-1C-SITE2-000173-80432-1.png', 'dataset/training/positive/MIDRC-RICORD-1C-SITE2-000176-81030-0.png', 'dataset/training/positive/MIDRC-RICORD-1C-SITE2-000178-89752-0.png', 'dataset/training/positive/MIDRC-RICORD-1C-SITE2-000179-48742-0.png', 'dataset/training/positive/MIDRC-RICORD-1C-SITE2-000181-63935-0.png', 'dataset/training/positive/MIDRC-RICORD-1C-SITE2-000182-35476-0.png', 'dataset/training/positive/MIDRC-RICORD-1C-SITE2-000185-39456-0.png', 'dataset/training/positive/MIDRC-RICORD-1C-SITE2-000188-54382-0.png', 'dataset/training/positive/MIDRC-RICORD-1C-SITE2-000200-97745-0.png', 'dataset/training/positive/MIDRC-RICORD-1C-SITE2-000202-80939-0.png', 'dataset/training/positive/MIDRC-RICORD-1C-SITE2-000203-08712-0.png', 'dataset/training/positive/MIDRC-RICORD-1C-SITE2-000204-24409-0.png', 'dataset/training/positive/MIDRC-RICORD-1C-SITE2-000206-25871-0.png', 'dataset/training/positive/MIDRC-RICORD-1C-SITE2-000207-20956-0.png', 'dataset/training/positive/MIDRC-RICORD-1C-SITE2-000208-34584-0.png', 'dataset/training/positive/MIDRC-RICORD-1C-SITE2-000210-51719-0.png', 'dataset/training/positive/MIDRC-RICORD-1C-SITE2-000211-85940-0.png', 'dataset/training/positive/MIDRC-RICORD-1C-SITE2-000217-73086-0.png', 'dataset/training/positive/MIDRC-RICORD-1C-SITE2-000220-78771-1.png', 'dataset/training/positive/MIDRC-RICORD-1C-SITE2-000221-43774-0.png', 'dataset/training/positive/MIDRC-RICORD-1C-SITE2-000229-76177-0.png', 'dataset/training/positive/MIDRC-RICORD-1C-SITE2-000230-35167-0.png', 'dataset/training/positive/MIDRC-RICORD-1C-SITE2-000235-44451-0.png', 'dataset/training/positive/MIDRC-RICORD-1C-SITE2-000237-52517-0.png', 'dataset/training/positive/MIDRC-RICORD-1C-SITE2-000238-25854-1.png', 'dataset/training/positive/MIDRC-RICORD-1C-SITE2-000239-21655-0.png', 'dataset/training/positive/MIDRC-RICORD-1C-SITE2-000244-77429-0.png', 'dataset/training/positive/MIDRC-RICORD-1C-SITE2-000265-99793-1.png', 'dataset/training/positive/MIDRC-RICORD-1C-SITE2-000270-57009-0.png', 'dataset/training/positive/MIDRC-RICORD-1C-SITE2-000272-41527-0.png', 'dataset/training/positive/MIDRC-RICORD-1C-SITE2-000279-56879-0.png', 'dataset/training/positive/MIDRC-RICORD-1C-SITE2-000283-41971-0.png', 'dataset/training/positive/MIDRC-RICORD-1C-SITE2-000291-42841-0.png', 'dataset/training/positive/MIDRC-RICORD-1C-SITE2-000297-71173-1.png'], 'n': 327, 'batch_size': 32, 'seed': None, 'shuffle': True, 'batch_index': 0, 'total_batches_seen': 0, 'lock': <unlocked _thread.lock object at 0x155796150>, 'index_array': None, 'index_generator': <generator object Iterator._flow_index at 0x1557fa900>}\n"
     ]
    }
   ],
   "source": [
    "train_datagen = ImageDataGenerator(rescale = 1./255,\n",
    "                                   shear_range = 0.2,\n",
    "                                   zoom_range = 0.2,\n",
    "                                   horizontal_flip = True)\n",
    "training_set = train_datagen.flow_from_directory('dataset/training',\n",
    "                                                 target_size = (64, 64),\n",
    "                                                 batch_size = 32,\n",
    "                                                 class_mode = 'binary')\n",
    "print(training_set.__dict__)\n"
   ]
  },
  {
   "cell_type": "code",
   "execution_count": 76,
   "id": "digital-welcome",
   "metadata": {},
   "outputs": [
    {
     "name": "stdout",
     "output_type": "stream",
     "text": [
      "[0 0 0 0 0 0 0 0 0 0 0 0 0 0 0 0 0 0 0 0 0 0 0 0 0 0 0 0 0 0 0 0 0 0 0 0 0\n",
      " 0 0 0 0 0 0 0 0 0 0 0 0 0 0 0 0 0 0 0 0 0 0 0 0 0 0 0 0 0 0 0 0 0 0 0 0 0\n",
      " 0 0 0 0 0 0 0 0 0 0 0 0 0 0 0 0 0 0 0 0 0 0 0 0 0 0 0 0 0 0 0 0 0 0 0 0 0\n",
      " 0 0 0 0 0 0 0 0 0 0 0 0 0 0 0 0 0 0 0 0 0 0 0 0 0 0 0 0 0 0 0 0 0 0 0 0 0\n",
      " 0 0 0 0 0 0 0 0 0 0 0 0 0 0 0 0 0 0 0 0 0 0 0 0 0 0 0 0 0 1 1 1 1 1 1 1 1\n",
      " 1 1 1 1 1 1 1 1 1 1 1 1 1 1 1 1 1 1 1 1 1 1 1 1 1 1 1 1 1 1 1 1 1 1 1 1 1\n",
      " 1 1 1 1 1 1 1 1 1 1 1 1 1 1 1 1 1 1 1 1 1 1 1 1 1 1 1 1 1 1 1 1 1 1 1 1 1\n",
      " 1 1 1 1 1 1 1 1 1 1 1 1 1 1 1 1 1 1 1 1 1 1 1 1 1 1 1 1 1 1 1 1 1 1 1 1 1\n",
      " 1 1 1 1 1 1 1 1 1 1 1 1 1 1 1 1 1 1 1 1 1 1 1 1 1 1 1 1 1 1 1]\n"
     ]
    },
    {
     "name": "stderr",
     "output_type": "stream",
     "text": [
      "/Users/isaque/.envs/deeplearning/lib/python3.8/site-packages/seaborn/_decorators.py:36: FutureWarning: Pass the following variable as a keyword arg: x. From version 0.12, the only valid positional argument will be `data`, and passing other arguments without an explicit keyword will result in an error or misinterpretation.\n",
      "  warnings.warn(\n"
     ]
    },
    {
     "data": {
      "text/plain": [
       "<AxesSubplot:ylabel='count'>"
      ]
     },
     "execution_count": 76,
     "metadata": {},
     "output_type": "execute_result"
    },
    {
     "data": {
      "image/png": "[encoded data removed]",
      "text/plain": [
       "<Figure size 432x288 with 1 Axes>"
      ]
     },
     "metadata": {},
     "output_type": "display_data"
    }
   ],
   "source": [
    "print(training_set.classes)\n",
    "\n",
    "sns.set_style('darkgrid')\n",
    "sns.countplot(training_set.classes)"
   ]
  },
  {
   "cell_type": "code",
   "execution_count": 77,
   "id": "spatial-exclusive",
   "metadata": {},
   "outputs": [
    {
     "name": "stdout",
     "output_type": "stream",
     "text": [
      "Found 73 images belonging to 2 classes.\n"
     ]
    }
   ],
   "source": [
    "test_datagen = ImageDataGenerator(rescale = 1./255)\n",
    "test_set = test_datagen.flow_from_directory('dataset/test',\n",
    "                                            target_size = (64, 64),\n",
    "                                            batch_size = 32,\n",
    "                                            class_mode = 'binary')"
   ]
  },
  {
   "cell_type": "markdown",
   "id": "coordinated-alert",
   "metadata": {},
   "source": [
    "####  "
   ]
  },
  {
   "cell_type": "code",
   "execution_count": 79,
   "id": "amino-buying",
   "metadata": {},
   "outputs": [
    {
     "name": "stdout",
     "output_type": "stream",
     "text": [
      "[0 0 0 0 0 0 0 0 0 0 0 0 0 0 0 0 0 0 0 0 0 0 0 1 1 1 1 1 1 1 1 1 1 1 1 1 1\n",
      " 1 1 1 1 1 1 1 1 1 1 1 1 1 1 1 1 1 1 1 1 1 1 1 1 1 1 1 1 1 1 1 1 1 1 1 1]\n"
     ]
    },
    {
     "name": "stderr",
     "output_type": "stream",
     "text": [
      "/Users/isaque/.envs/deeplearning/lib/python3.8/site-packages/seaborn/_decorators.py:36: FutureWarning: Pass the following variable as a keyword arg: x. From version 0.12, the only valid positional argument will be `data`, and passing other arguments without an explicit keyword will result in an error or misinterpretation.\n",
      "  warnings.warn(\n"
     ]
    },
    {
     "data": {
      "text/plain": [
       "<AxesSubplot:ylabel='count'>"
      ]
     },
     "execution_count": 79,
     "metadata": {},
     "output_type": "execute_result"
    },
    {
     "data": {
      "image/png": "[encoded data removed]",
      "text/plain": [
       "<Figure size 432x288 with 1 Axes>"
      ]
     },
     "metadata": {},
     "output_type": "display_data"
    }
   ],
   "source": [
    "print(test_set.classes)\n",
    "\n",
    "sns.set_style('darkgrid')\n",
    "sns.countplot(test_set.classes)"
   ]
  },
  {
   "cell_type": "code",
   "execution_count": 7,
   "id": "finished-manner",
   "metadata": {},
   "outputs": [],
   "source": [
    "cnn = tf.keras.models.Sequential()\n",
    "cnn.add(tf.keras.layers.Conv2D(filters=32, kernel_size=3, activation='relu', input_shape=[64, 64, 3]))\n",
    "cnn.add(tf.keras.layers.MaxPool2D(pool_size=2, strides=2))\n",
    "cnn.add(tf.keras.layers.Conv2D(filters=32, kernel_size=3, activation='relu'))\n",
    "cnn.add(tf.keras.layers.MaxPool2D(pool_size=2, strides=2))\n",
    "cnn.add(tf.keras.layers.Flatten())\n",
    "cnn.add(tf.keras.layers.Dense(units=128, activation='relu'))\n",
    "cnn.add(tf.keras.layers.Dense(units=1, activation='sigmoid'))"
   ]
  },
  {
   "cell_type": "code",
   "execution_count": 8,
   "id": "conscious-reading",
   "metadata": {},
   "outputs": [],
   "source": [
    "cnn.compile(optimizer = 'adam', loss = 'binary_crossentropy', metrics = ['accuracy'])"
   ]
  },
  {
   "cell_type": "code",
   "execution_count": 9,
   "id": "preceding-study",
   "metadata": {},
   "outputs": [
    {
     "name": "stdout",
     "output_type": "stream",
     "text": [
      "Epoch 1/25\n",
      "11/11 [==============================] - 40s 4s/step - loss: 0.7143 - accuracy: 0.4836 - val_loss: 0.7563 - val_accuracy: 0.3151\n",
      "Epoch 2/25\n",
      "11/11 [==============================] - 39s 4s/step - loss: 0.6856 - accuracy: 0.5542 - val_loss: 0.7079 - val_accuracy: 0.3151\n",
      "Epoch 3/25\n",
      "11/11 [==============================] - 39s 4s/step - loss: 0.6756 - accuracy: 0.5456 - val_loss: 0.6900 - val_accuracy: 0.4658\n",
      "Epoch 4/25\n",
      "11/11 [==============================] - 41s 4s/step - loss: 0.6402 - accuracy: 0.7236 - val_loss: 0.6308 - val_accuracy: 0.6575\n",
      "Epoch 5/25\n",
      "11/11 [==============================] - 48s 4s/step - loss: 0.6022 - accuracy: 0.6661 - val_loss: 0.6310 - val_accuracy: 0.6849\n",
      "Epoch 6/25\n",
      "11/11 [==============================] - 46s 4s/step - loss: 0.6221 - accuracy: 0.6280 - val_loss: 0.5975 - val_accuracy: 0.6712\n",
      "Epoch 7/25\n",
      "11/11 [==============================] - 44s 4s/step - loss: 0.5433 - accuracy: 0.7347 - val_loss: 0.5288 - val_accuracy: 0.6849\n",
      "Epoch 8/25\n",
      "11/11 [==============================] - 40s 4s/step - loss: 0.5376 - accuracy: 0.7325 - val_loss: 0.4639 - val_accuracy: 0.7945\n",
      "Epoch 9/25\n",
      "11/11 [==============================] - 41s 4s/step - loss: 0.5118 - accuracy: 0.7738 - val_loss: 0.4672 - val_accuracy: 0.7671\n",
      "Epoch 10/25\n",
      "11/11 [==============================] - 44s 4s/step - loss: 0.5271 - accuracy: 0.7340 - val_loss: 0.4575 - val_accuracy: 0.7945\n",
      "Epoch 11/25\n",
      "11/11 [==============================] - 46s 4s/step - loss: 0.5858 - accuracy: 0.7125 - val_loss: 0.4306 - val_accuracy: 0.8219\n",
      "Epoch 12/25\n",
      "10/11 [==========================>...] - ETA: 3s - loss: 0.5137 - accuracy: 0.7552"
     ]
    },
    {
     "ename": "KeyboardInterrupt",
     "evalue": "",
     "output_type": "error",
     "traceback": [
      "\u001b[0;31m---------------------------------------------------------------------------\u001b[0m",
      "\u001b[0;31mKeyboardInterrupt\u001b[0m                         Traceback (most recent call last)",
      "\u001b[0;32m<ipython-input-9-894200829115>\u001b[0m in \u001b[0;36m<module>\u001b[0;34m\u001b[0m\n\u001b[0;32m----> 1\u001b[0;31m \u001b[0mcnn\u001b[0m\u001b[0;34m.\u001b[0m\u001b[0mfit\u001b[0m\u001b[0;34m(\u001b[0m\u001b[0mx\u001b[0m \u001b[0;34m=\u001b[0m \u001b[0mtraining_set\u001b[0m\u001b[0;34m,\u001b[0m \u001b[0mvalidation_data\u001b[0m \u001b[0;34m=\u001b[0m \u001b[0mtest_set\u001b[0m\u001b[0;34m,\u001b[0m \u001b[0mepochs\u001b[0m \u001b[0;34m=\u001b[0m \u001b[0;36m25\u001b[0m\u001b[0;34m)\u001b[0m\u001b[0;34m\u001b[0m\u001b[0;34m\u001b[0m\u001b[0m\n\u001b[0m",
      "\u001b[0;32m~/.envs/deeplearning/lib/python3.8/site-packages/tensorflow/python/keras/engine/training.py\u001b[0m in \u001b[0;36mfit\u001b[0;34m(self, x, y, batch_size, epochs, verbose, callbacks, validation_split, validation_data, shuffle, class_weight, sample_weight, initial_epoch, steps_per_epoch, validation_steps, validation_batch_size, validation_freq, max_queue_size, workers, use_multiprocessing)\u001b[0m\n\u001b[1;32m   1098\u001b[0m                 _r=1):\n\u001b[1;32m   1099\u001b[0m               \u001b[0mcallbacks\u001b[0m\u001b[0;34m.\u001b[0m\u001b[0mon_train_batch_begin\u001b[0m\u001b[0;34m(\u001b[0m\u001b[0mstep\u001b[0m\u001b[0;34m)\u001b[0m\u001b[0;34m\u001b[0m\u001b[0;34m\u001b[0m\u001b[0m\n\u001b[0;32m-> 1100\u001b[0;31m               \u001b[0mtmp_logs\u001b[0m \u001b[0;34m=\u001b[0m \u001b[0mself\u001b[0m\u001b[0;34m.\u001b[0m\u001b[0mtrain_function\u001b[0m\u001b[0;34m(\u001b[0m\u001b[0miterator\u001b[0m\u001b[0;34m)\u001b[0m\u001b[0;34m\u001b[0m\u001b[0;34m\u001b[0m\u001b[0m\n\u001b[0m\u001b[1;32m   1101\u001b[0m               \u001b[0;32mif\u001b[0m \u001b[0mdata_handler\u001b[0m\u001b[0;34m.\u001b[0m\u001b[0mshould_sync\u001b[0m\u001b[0;34m:\u001b[0m\u001b[0;34m\u001b[0m\u001b[0;34m\u001b[0m\u001b[0m\n\u001b[1;32m   1102\u001b[0m                 \u001b[0mcontext\u001b[0m\u001b[0;34m.\u001b[0m\u001b[0masync_wait\u001b[0m\u001b[0;34m(\u001b[0m\u001b[0;34m)\u001b[0m\u001b[0;34m\u001b[0m\u001b[0;34m\u001b[0m\u001b[0m\n",
      "\u001b[0;32m~/.envs/deeplearning/lib/python3.8/site-packages/tensorflow/python/eager/def_function.py\u001b[0m in \u001b[0;36m__call__\u001b[0;34m(self, *args, **kwds)\u001b[0m\n\u001b[1;32m    826\u001b[0m     \u001b[0mtracing_count\u001b[0m \u001b[0;34m=\u001b[0m \u001b[0mself\u001b[0m\u001b[0;34m.\u001b[0m\u001b[0mexperimental_get_tracing_count\u001b[0m\u001b[0;34m(\u001b[0m\u001b[0;34m)\u001b[0m\u001b[0;34m\u001b[0m\u001b[0;34m\u001b[0m\u001b[0m\n\u001b[1;32m    827\u001b[0m     \u001b[0;32mwith\u001b[0m \u001b[0mtrace\u001b[0m\u001b[0;34m.\u001b[0m\u001b[0mTrace\u001b[0m\u001b[0;34m(\u001b[0m\u001b[0mself\u001b[0m\u001b[0;34m.\u001b[0m\u001b[0m_name\u001b[0m\u001b[0;34m)\u001b[0m \u001b[0;32mas\u001b[0m \u001b[0mtm\u001b[0m\u001b[0;34m:\u001b[0m\u001b[0;34m\u001b[0m\u001b[0;34m\u001b[0m\u001b[0m\n\u001b[0;32m--> 828\u001b[0;31m       \u001b[0mresult\u001b[0m \u001b[0;34m=\u001b[0m \u001b[0mself\u001b[0m\u001b[0;34m.\u001b[0m\u001b[0m_call\u001b[0m\u001b[0;34m(\u001b[0m\u001b[0;34m*\u001b[0m\u001b[0margs\u001b[0m\u001b[0;34m,\u001b[0m \u001b[0;34m**\u001b[0m\u001b[0mkwds\u001b[0m\u001b[0;34m)\u001b[0m\u001b[0;34m\u001b[0m\u001b[0;34m\u001b[0m\u001b[0m\n\u001b[0m\u001b[1;32m    829\u001b[0m       \u001b[0mcompiler\u001b[0m \u001b[0;34m=\u001b[0m \u001b[0;34m\"xla\"\u001b[0m \u001b[0;32mif\u001b[0m \u001b[0mself\u001b[0m\u001b[0;34m.\u001b[0m\u001b[0m_experimental_compile\u001b[0m \u001b[0;32melse\u001b[0m \u001b[0;34m\"nonXla\"\u001b[0m\u001b[0;34m\u001b[0m\u001b[0;34m\u001b[0m\u001b[0m\n\u001b[1;32m    830\u001b[0m       \u001b[0mnew_tracing_count\u001b[0m \u001b[0;34m=\u001b[0m \u001b[0mself\u001b[0m\u001b[0;34m.\u001b[0m\u001b[0mexperimental_get_tracing_count\u001b[0m\u001b[0;34m(\u001b[0m\u001b[0;34m)\u001b[0m\u001b[0;34m\u001b[0m\u001b[0;34m\u001b[0m\u001b[0m\n",
      "\u001b[0;32m~/.envs/deeplearning/lib/python3.8/site-packages/tensorflow/python/eager/def_function.py\u001b[0m in \u001b[0;36m_call\u001b[0;34m(self, *args, **kwds)\u001b[0m\n\u001b[1;32m    853\u001b[0m       \u001b[0;31m# In this case we have created variables on the first call, so we run the\u001b[0m\u001b[0;34m\u001b[0m\u001b[0;34m\u001b[0m\u001b[0;34m\u001b[0m\u001b[0m\n\u001b[1;32m    854\u001b[0m       \u001b[0;31m# defunned version which is guaranteed to never create variables.\u001b[0m\u001b[0;34m\u001b[0m\u001b[0;34m\u001b[0m\u001b[0;34m\u001b[0m\u001b[0m\n\u001b[0;32m--> 855\u001b[0;31m       \u001b[0;32mreturn\u001b[0m \u001b[0mself\u001b[0m\u001b[0;34m.\u001b[0m\u001b[0m_stateless_fn\u001b[0m\u001b[0;34m(\u001b[0m\u001b[0;34m*\u001b[0m\u001b[0margs\u001b[0m\u001b[0;34m,\u001b[0m \u001b[0;34m**\u001b[0m\u001b[0mkwds\u001b[0m\u001b[0;34m)\u001b[0m  \u001b[0;31m# pylint: disable=not-callable\u001b[0m\u001b[0;34m\u001b[0m\u001b[0;34m\u001b[0m\u001b[0m\n\u001b[0m\u001b[1;32m    856\u001b[0m     \u001b[0;32melif\u001b[0m \u001b[0mself\u001b[0m\u001b[0;34m.\u001b[0m\u001b[0m_stateful_fn\u001b[0m \u001b[0;32mis\u001b[0m \u001b[0;32mnot\u001b[0m \u001b[0;32mNone\u001b[0m\u001b[0;34m:\u001b[0m\u001b[0;34m\u001b[0m\u001b[0;34m\u001b[0m\u001b[0m\n\u001b[1;32m    857\u001b[0m       \u001b[0;31m# Release the lock early so that multiple threads can perform the call\u001b[0m\u001b[0;34m\u001b[0m\u001b[0;34m\u001b[0m\u001b[0;34m\u001b[0m\u001b[0m\n",
      "\u001b[0;32m~/.envs/deeplearning/lib/python3.8/site-packages/tensorflow/python/eager/function.py\u001b[0m in \u001b[0;36m__call__\u001b[0;34m(self, *args, **kwargs)\u001b[0m\n\u001b[1;32m   2940\u001b[0m       (graph_function,\n\u001b[1;32m   2941\u001b[0m        filtered_flat_args) = self._maybe_define_function(args, kwargs)\n\u001b[0;32m-> 2942\u001b[0;31m     return graph_function._call_flat(\n\u001b[0m\u001b[1;32m   2943\u001b[0m         filtered_flat_args, captured_inputs=graph_function.captured_inputs)  # pylint: disable=protected-access\n\u001b[1;32m   2944\u001b[0m \u001b[0;34m\u001b[0m\u001b[0m\n",
      "\u001b[0;32m~/.envs/deeplearning/lib/python3.8/site-packages/tensorflow/python/eager/function.py\u001b[0m in \u001b[0;36m_call_flat\u001b[0;34m(self, args, captured_inputs, cancellation_manager)\u001b[0m\n\u001b[1;32m   1916\u001b[0m         and executing_eagerly):\n\u001b[1;32m   1917\u001b[0m       \u001b[0;31m# No tape is watching; skip to running the function.\u001b[0m\u001b[0;34m\u001b[0m\u001b[0;34m\u001b[0m\u001b[0;34m\u001b[0m\u001b[0m\n\u001b[0;32m-> 1918\u001b[0;31m       return self._build_call_outputs(self._inference_function.call(\n\u001b[0m\u001b[1;32m   1919\u001b[0m           ctx, args, cancellation_manager=cancellation_manager))\n\u001b[1;32m   1920\u001b[0m     forward_backward = self._select_forward_and_backward_functions(\n",
      "\u001b[0;32m~/.envs/deeplearning/lib/python3.8/site-packages/tensorflow/python/eager/function.py\u001b[0m in \u001b[0;36mcall\u001b[0;34m(self, ctx, args, cancellation_manager)\u001b[0m\n\u001b[1;32m    553\u001b[0m       \u001b[0;32mwith\u001b[0m \u001b[0m_InterpolateFunctionError\u001b[0m\u001b[0;34m(\u001b[0m\u001b[0mself\u001b[0m\u001b[0;34m)\u001b[0m\u001b[0;34m:\u001b[0m\u001b[0;34m\u001b[0m\u001b[0;34m\u001b[0m\u001b[0m\n\u001b[1;32m    554\u001b[0m         \u001b[0;32mif\u001b[0m \u001b[0mcancellation_manager\u001b[0m \u001b[0;32mis\u001b[0m \u001b[0;32mNone\u001b[0m\u001b[0;34m:\u001b[0m\u001b[0;34m\u001b[0m\u001b[0;34m\u001b[0m\u001b[0m\n\u001b[0;32m--> 555\u001b[0;31m           outputs = execute.execute(\n\u001b[0m\u001b[1;32m    556\u001b[0m               \u001b[0mstr\u001b[0m\u001b[0;34m(\u001b[0m\u001b[0mself\u001b[0m\u001b[0;34m.\u001b[0m\u001b[0msignature\u001b[0m\u001b[0;34m.\u001b[0m\u001b[0mname\u001b[0m\u001b[0;34m)\u001b[0m\u001b[0;34m,\u001b[0m\u001b[0;34m\u001b[0m\u001b[0;34m\u001b[0m\u001b[0m\n\u001b[1;32m    557\u001b[0m               \u001b[0mnum_outputs\u001b[0m\u001b[0;34m=\u001b[0m\u001b[0mself\u001b[0m\u001b[0;34m.\u001b[0m\u001b[0m_num_outputs\u001b[0m\u001b[0;34m,\u001b[0m\u001b[0;34m\u001b[0m\u001b[0;34m\u001b[0m\u001b[0m\n",
      "\u001b[0;32m~/.envs/deeplearning/lib/python3.8/site-packages/tensorflow/python/eager/execute.py\u001b[0m in \u001b[0;36mquick_execute\u001b[0;34m(op_name, num_outputs, inputs, attrs, ctx, name)\u001b[0m\n\u001b[1;32m     57\u001b[0m   \u001b[0;32mtry\u001b[0m\u001b[0;34m:\u001b[0m\u001b[0;34m\u001b[0m\u001b[0;34m\u001b[0m\u001b[0m\n\u001b[1;32m     58\u001b[0m     \u001b[0mctx\u001b[0m\u001b[0;34m.\u001b[0m\u001b[0mensure_initialized\u001b[0m\u001b[0;34m(\u001b[0m\u001b[0;34m)\u001b[0m\u001b[0;34m\u001b[0m\u001b[0;34m\u001b[0m\u001b[0m\n\u001b[0;32m---> 59\u001b[0;31m     tensors = pywrap_tfe.TFE_Py_Execute(ctx._handle, device_name, op_name,\n\u001b[0m\u001b[1;32m     60\u001b[0m                                         inputs, attrs, num_outputs)\n\u001b[1;32m     61\u001b[0m   \u001b[0;32mexcept\u001b[0m \u001b[0mcore\u001b[0m\u001b[0;34m.\u001b[0m\u001b[0m_NotOkStatusException\u001b[0m \u001b[0;32mas\u001b[0m \u001b[0me\u001b[0m\u001b[0;34m:\u001b[0m\u001b[0;34m\u001b[0m\u001b[0;34m\u001b[0m\u001b[0m\n",
      "\u001b[0;31mKeyboardInterrupt\u001b[0m: "
     ]
    }
   ],
   "source": [
    "cnn.fit(x = training_set, validation_data = test_set, epochs = 25)"
   ]
  },
  {
   "cell_type": "code",
   "execution_count": null,
   "id": "chronic-disclaimer",
   "metadata": {},
   "outputs": [],
   "source": []
  }
 ],
 "metadata": {
  "kernelspec": {
   "display_name": "Python 3",
   "language": "python",
   "name": "python3"
  },
  "language_info": {
   "codemirror_mode": {
    "name": "ipython",
    "version": 3
   },
   "file_extension": ".py",
   "mimetype": "text/x-python",
   "name": "python",
   "nbconvert_exporter": "python",
   "pygments_lexer": "ipython3",
   "version": "3.8.2"
  }
 },
 "nbformat": 4,
 "nbformat_minor": 5
}
